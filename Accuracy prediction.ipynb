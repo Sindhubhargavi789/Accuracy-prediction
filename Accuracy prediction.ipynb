{
 "cells": [
  {
   "cell_type": "code",
   "execution_count": 37,
   "id": "a9766fa2",
   "metadata": {},
   "outputs": [
    {
     "data": {
      "text/html": [
       "<div>\n",
       "<style scoped>\n",
       "    .dataframe tbody tr th:only-of-type {\n",
       "        vertical-align: middle;\n",
       "    }\n",
       "\n",
       "    .dataframe tbody tr th {\n",
       "        vertical-align: top;\n",
       "    }\n",
       "\n",
       "    .dataframe thead th {\n",
       "        text-align: right;\n",
       "    }\n",
       "</style>\n",
       "<table border=\"1\" class=\"dataframe\">\n",
       "  <thead>\n",
       "    <tr style=\"text-align: right;\">\n",
       "      <th></th>\n",
       "      <th>survey org</th>\n",
       "      <th>bjp</th>\n",
       "      <th>con</th>\n",
       "      <th>brs</th>\n",
       "      <th>mim</th>\n",
       "    </tr>\n",
       "  </thead>\n",
       "  <tbody>\n",
       "    <tr>\n",
       "      <th>0</th>\n",
       "      <td>abp</td>\n",
       "      <td>8</td>\n",
       "      <td>8</td>\n",
       "      <td>0</td>\n",
       "      <td>1</td>\n",
       "    </tr>\n",
       "    <tr>\n",
       "      <th>1</th>\n",
       "      <td>cnn 18</td>\n",
       "      <td>6</td>\n",
       "      <td>8</td>\n",
       "      <td>3</td>\n",
       "      <td>1</td>\n",
       "    </tr>\n",
       "    <tr>\n",
       "      <th>2</th>\n",
       "      <td>jan ki baat</td>\n",
       "      <td>9</td>\n",
       "      <td>6</td>\n",
       "      <td>1</td>\n",
       "      <td>1</td>\n",
       "    </tr>\n",
       "    <tr>\n",
       "      <th>3</th>\n",
       "      <td>actual result</td>\n",
       "      <td>8</td>\n",
       "      <td>8</td>\n",
       "      <td>0</td>\n",
       "      <td>1</td>\n",
       "    </tr>\n",
       "  </tbody>\n",
       "</table>\n",
       "</div>"
      ],
      "text/plain": [
       "      survey org  bjp  con  brs  mim\n",
       "0            abp    8    8    0    1\n",
       "1         cnn 18    6    8    3    1\n",
       "2    jan ki baat    9    6    1    1\n",
       "3  actual result    8    8    0    1"
      ]
     },
     "execution_count": 37,
     "metadata": {},
     "output_type": "execute_result"
    }
   ],
   "source": [
    "import pandas as pd\n",
    "import numpy as np\n",
    "data=pd.read_csv('ts lokh sabha 2024 - Sheet1.csv')\n",
    "data"
   ]
  },
  {
   "cell_type": "code",
   "execution_count": 38,
   "id": "45257ef7",
   "metadata": {},
   "outputs": [
    {
     "data": {
      "text/html": [
       "<div>\n",
       "<style scoped>\n",
       "    .dataframe tbody tr th:only-of-type {\n",
       "        vertical-align: middle;\n",
       "    }\n",
       "\n",
       "    .dataframe tbody tr th {\n",
       "        vertical-align: top;\n",
       "    }\n",
       "\n",
       "    .dataframe thead th {\n",
       "        text-align: right;\n",
       "    }\n",
       "</style>\n",
       "<table border=\"1\" class=\"dataframe\">\n",
       "  <thead>\n",
       "    <tr style=\"text-align: right;\">\n",
       "      <th></th>\n",
       "      <th>survey org</th>\n",
       "      <th>bjp</th>\n",
       "      <th>con</th>\n",
       "      <th>brs</th>\n",
       "      <th>mim</th>\n",
       "    </tr>\n",
       "  </thead>\n",
       "  <tbody>\n",
       "    <tr>\n",
       "      <th>0</th>\n",
       "      <td>abp</td>\n",
       "      <td>8</td>\n",
       "      <td>8</td>\n",
       "      <td>0</td>\n",
       "      <td>1</td>\n",
       "    </tr>\n",
       "    <tr>\n",
       "      <th>1</th>\n",
       "      <td>cnn 18</td>\n",
       "      <td>6</td>\n",
       "      <td>8</td>\n",
       "      <td>3</td>\n",
       "      <td>1</td>\n",
       "    </tr>\n",
       "    <tr>\n",
       "      <th>2</th>\n",
       "      <td>jan ki baat</td>\n",
       "      <td>9</td>\n",
       "      <td>6</td>\n",
       "      <td>1</td>\n",
       "      <td>1</td>\n",
       "    </tr>\n",
       "  </tbody>\n",
       "</table>\n",
       "</div>"
      ],
      "text/plain": [
       "    survey org  bjp  con  brs  mim\n",
       "0          abp    8    8    0    1\n",
       "1       cnn 18    6    8    3    1\n",
       "2  jan ki baat    9    6    1    1"
      ]
     },
     "execution_count": 38,
     "metadata": {},
     "output_type": "execute_result"
    }
   ],
   "source": [
    "data.drop(index=data.index[-1],axis=0,inplace=True)\n",
    "data"
   ]
  },
  {
   "cell_type": "code",
   "execution_count": 39,
   "id": "a148c9f1",
   "metadata": {},
   "outputs": [
    {
     "data": {
      "text/plain": [
       "0    8\n",
       "1    6\n",
       "2    9\n",
       "Name: bjp, dtype: int64"
      ]
     },
     "execution_count": 39,
     "metadata": {},
     "output_type": "execute_result"
    }
   ],
   "source": [
    "l=data['bjp']\n",
    "l"
   ]
  },
  {
   "cell_type": "code",
   "execution_count": 40,
   "id": "a368b4b2",
   "metadata": {},
   "outputs": [],
   "source": [
    "def calculate_accuracy(actual_seats, predicted_seats):\n",
    "    if predicted_seats>actual_seats:\n",
    "        return (actual_seats/predicted_seats)*100\n",
    "    elif actual_seats==predicted_seats:\n",
    "        return 100.00\n",
    "    else:\n",
    "        return (predicted_seats/actual_seats)*100"
   ]
  },
  {
   "cell_type": "markdown",
   "id": "b74c21ba",
   "metadata": {},
   "source": [
    "\n",
    "for i in range(len(l)):\n",
    "    n=l[i]\n",
    "    l[i]=calculate_accuracy(,n)\n",
    "    \n",
    "    \n",
    "\n",
    "    \n",
    "l"
   ]
  },
  {
   "cell_type": "code",
   "execution_count": 41,
   "id": "bcdd0937",
   "metadata": {},
   "outputs": [
    {
     "name": "stderr",
     "output_type": "stream",
     "text": [
      "C:\\Users\\sindhubhargavi\\AppData\\Local\\Temp\\ipykernel_17788\\3757459287.py:3: SettingWithCopyWarning: \n",
      "A value is trying to be set on a copy of a slice from a DataFrame\n",
      "\n",
      "See the caveats in the documentation: https://pandas.pydata.org/pandas-docs/stable/user_guide/indexing.html#returning-a-view-versus-a-copy\n",
      "  l[i]=calculate_accuracy(8,n)\n",
      "C:\\Users\\sindhubhargavi\\AppData\\Local\\Temp\\ipykernel_17788\\3757459287.py:3: SettingWithCopyWarning: \n",
      "A value is trying to be set on a copy of a slice from a DataFrame\n",
      "\n",
      "See the caveats in the documentation: https://pandas.pydata.org/pandas-docs/stable/user_guide/indexing.html#returning-a-view-versus-a-copy\n",
      "  l[i]=calculate_accuracy(8,n)\n",
      "C:\\Users\\sindhubhargavi\\AppData\\Local\\Temp\\ipykernel_17788\\3757459287.py:3: SettingWithCopyWarning: \n",
      "A value is trying to be set on a copy of a slice from a DataFrame\n",
      "\n",
      "See the caveats in the documentation: https://pandas.pydata.org/pandas-docs/stable/user_guide/indexing.html#returning-a-view-versus-a-copy\n",
      "  l[i]=calculate_accuracy(8,n)\n",
      "C:\\Users\\sindhubhargavi\\AppData\\Local\\Temp\\ipykernel_17788\\3757459287.py:3: FutureWarning: Setting an item of incompatible dtype is deprecated and will raise in a future error of pandas. Value '88.88888888888889' has dtype incompatible with int64, please explicitly cast to a compatible dtype first.\n",
      "  l[i]=calculate_accuracy(8,n)\n"
     ]
    },
    {
     "data": {
      "text/plain": [
       "0    100.000000\n",
       "1     75.000000\n",
       "2     88.888889\n",
       "Name: bjp, dtype: float64"
      ]
     },
     "execution_count": 41,
     "metadata": {},
     "output_type": "execute_result"
    }
   ],
   "source": [
    "\n",
    "for i in range(len(l)):\n",
    "    n=l[i]\n",
    "    l[i]=calculate_accuracy(8,n)\n",
    "    \n",
    "    \n",
    "\n",
    "    \n",
    "l"
   ]
  },
  {
   "cell_type": "code",
   "execution_count": 42,
   "id": "123593cd",
   "metadata": {},
   "outputs": [
    {
     "data": {
      "text/plain": [
       "0    8\n",
       "1    8\n",
       "2    6\n",
       "Name: con, dtype: int64"
      ]
     },
     "execution_count": 42,
     "metadata": {},
     "output_type": "execute_result"
    }
   ],
   "source": [
    "l1=data['con']\n",
    "l1\n"
   ]
  },
  {
   "cell_type": "code",
   "execution_count": 43,
   "id": "98a29454",
   "metadata": {},
   "outputs": [
    {
     "name": "stderr",
     "output_type": "stream",
     "text": [
      "C:\\Users\\sindhubhargavi\\AppData\\Local\\Temp\\ipykernel_17788\\4248544307.py:3: SettingWithCopyWarning: \n",
      "A value is trying to be set on a copy of a slice from a DataFrame\n",
      "\n",
      "See the caveats in the documentation: https://pandas.pydata.org/pandas-docs/stable/user_guide/indexing.html#returning-a-view-versus-a-copy\n",
      "  l1[i]=calculate_accuracy(8,n)\n",
      "C:\\Users\\sindhubhargavi\\AppData\\Local\\Temp\\ipykernel_17788\\4248544307.py:3: SettingWithCopyWarning: \n",
      "A value is trying to be set on a copy of a slice from a DataFrame\n",
      "\n",
      "See the caveats in the documentation: https://pandas.pydata.org/pandas-docs/stable/user_guide/indexing.html#returning-a-view-versus-a-copy\n",
      "  l1[i]=calculate_accuracy(8,n)\n",
      "C:\\Users\\sindhubhargavi\\AppData\\Local\\Temp\\ipykernel_17788\\4248544307.py:3: SettingWithCopyWarning: \n",
      "A value is trying to be set on a copy of a slice from a DataFrame\n",
      "\n",
      "See the caveats in the documentation: https://pandas.pydata.org/pandas-docs/stable/user_guide/indexing.html#returning-a-view-versus-a-copy\n",
      "  l1[i]=calculate_accuracy(8,n)\n"
     ]
    },
    {
     "data": {
      "text/plain": [
       "0    100\n",
       "1    100\n",
       "2     75\n",
       "Name: con, dtype: int64"
      ]
     },
     "execution_count": 43,
     "metadata": {},
     "output_type": "execute_result"
    }
   ],
   "source": [
    "for i in range(len(l1)):\n",
    "    n=l1[i]\n",
    "    l1[i]=calculate_accuracy(8,n)\n",
    "    \n",
    "    \n",
    "\n",
    "    \n",
    "l1"
   ]
  },
  {
   "cell_type": "code",
   "execution_count": 44,
   "id": "d94d947b",
   "metadata": {},
   "outputs": [
    {
     "data": {
      "text/plain": [
       "0    0\n",
       "1    3\n",
       "2    1\n",
       "Name: brs, dtype: int64"
      ]
     },
     "execution_count": 44,
     "metadata": {},
     "output_type": "execute_result"
    }
   ],
   "source": [
    "l2=data['brs']\n",
    "l2\n"
   ]
  },
  {
   "cell_type": "code",
   "execution_count": 45,
   "id": "03e052fd",
   "metadata": {},
   "outputs": [
    {
     "name": "stderr",
     "output_type": "stream",
     "text": [
      "C:\\Users\\sindhubhargavi\\AppData\\Local\\Temp\\ipykernel_17788\\1645435450.py:3: SettingWithCopyWarning: \n",
      "A value is trying to be set on a copy of a slice from a DataFrame\n",
      "\n",
      "See the caveats in the documentation: https://pandas.pydata.org/pandas-docs/stable/user_guide/indexing.html#returning-a-view-versus-a-copy\n",
      "  l2[i]=calculate_accuracy(0,n)\n",
      "C:\\Users\\sindhubhargavi\\AppData\\Local\\Temp\\ipykernel_17788\\1645435450.py:3: SettingWithCopyWarning: \n",
      "A value is trying to be set on a copy of a slice from a DataFrame\n",
      "\n",
      "See the caveats in the documentation: https://pandas.pydata.org/pandas-docs/stable/user_guide/indexing.html#returning-a-view-versus-a-copy\n",
      "  l2[i]=calculate_accuracy(0,n)\n",
      "C:\\Users\\sindhubhargavi\\AppData\\Local\\Temp\\ipykernel_17788\\1645435450.py:3: SettingWithCopyWarning: \n",
      "A value is trying to be set on a copy of a slice from a DataFrame\n",
      "\n",
      "See the caveats in the documentation: https://pandas.pydata.org/pandas-docs/stable/user_guide/indexing.html#returning-a-view-versus-a-copy\n",
      "  l2[i]=calculate_accuracy(0,n)\n"
     ]
    },
    {
     "data": {
      "text/plain": [
       "0    100\n",
       "1      0\n",
       "2      0\n",
       "Name: brs, dtype: int64"
      ]
     },
     "execution_count": 45,
     "metadata": {},
     "output_type": "execute_result"
    }
   ],
   "source": [
    "for i in range(len(l2)):\n",
    "    n=l2[i]\n",
    "    l2[i]=calculate_accuracy(0,n)\n",
    "l2\n",
    "    \n",
    "    \n",
    "\n",
    " \n"
   ]
  },
  {
   "cell_type": "code",
   "execution_count": 46,
   "id": "2b136ffa",
   "metadata": {},
   "outputs": [
    {
     "data": {
      "text/plain": [
       "0    1\n",
       "1    1\n",
       "2    1\n",
       "Name: mim, dtype: int64"
      ]
     },
     "execution_count": 46,
     "metadata": {},
     "output_type": "execute_result"
    }
   ],
   "source": [
    "l3=data['mim']\n",
    "l3\n"
   ]
  },
  {
   "cell_type": "code",
   "execution_count": 47,
   "id": "933c6ca9",
   "metadata": {},
   "outputs": [
    {
     "name": "stderr",
     "output_type": "stream",
     "text": [
      "C:\\Users\\sindhubhargavi\\AppData\\Local\\Temp\\ipykernel_17788\\1599646555.py:3: SettingWithCopyWarning: \n",
      "A value is trying to be set on a copy of a slice from a DataFrame\n",
      "\n",
      "See the caveats in the documentation: https://pandas.pydata.org/pandas-docs/stable/user_guide/indexing.html#returning-a-view-versus-a-copy\n",
      "  l3[i]=calculate_accuracy(1,n)\n",
      "C:\\Users\\sindhubhargavi\\AppData\\Local\\Temp\\ipykernel_17788\\1599646555.py:3: SettingWithCopyWarning: \n",
      "A value is trying to be set on a copy of a slice from a DataFrame\n",
      "\n",
      "See the caveats in the documentation: https://pandas.pydata.org/pandas-docs/stable/user_guide/indexing.html#returning-a-view-versus-a-copy\n",
      "  l3[i]=calculate_accuracy(1,n)\n",
      "C:\\Users\\sindhubhargavi\\AppData\\Local\\Temp\\ipykernel_17788\\1599646555.py:3: SettingWithCopyWarning: \n",
      "A value is trying to be set on a copy of a slice from a DataFrame\n",
      "\n",
      "See the caveats in the documentation: https://pandas.pydata.org/pandas-docs/stable/user_guide/indexing.html#returning-a-view-versus-a-copy\n",
      "  l3[i]=calculate_accuracy(1,n)\n"
     ]
    },
    {
     "data": {
      "text/plain": [
       "0    100\n",
       "1    100\n",
       "2    100\n",
       "Name: mim, dtype: int64"
      ]
     },
     "execution_count": 47,
     "metadata": {},
     "output_type": "execute_result"
    }
   ],
   "source": [
    "for i in range(len(l3)):\n",
    "    n=l3[i]\n",
    "    l3[i]=calculate_accuracy(1,n)\n",
    "l3\n",
    "    \n",
    "    \n",
    "\n",
    " \n"
   ]
  },
  {
   "cell_type": "code",
   "execution_count": 79,
   "id": "db50349f",
   "metadata": {},
   "outputs": [
    {
     "data": {
      "text/plain": [
       "0     0\n",
       "1     0\n",
       "2     0\n",
       "3     0\n",
       "4     0\n",
       "5     0\n",
       "6     1\n",
       "7     1\n",
       "8     0\n",
       "9     1\n",
       "10    0\n",
       "Name: OTHERS, dtype: int64"
      ]
     },
     "execution_count": 79,
     "metadata": {},
     "output_type": "execute_result"
    }
   ],
   "source": [
    "l4=data['OTHERS']\n",
    "l4\n"
   ]
  },
  {
   "cell_type": "code",
   "execution_count": 80,
   "id": "0d35b78c",
   "metadata": {},
   "outputs": [
    {
     "name": "stderr",
     "output_type": "stream",
     "text": [
      "C:\\Users\\sindhubhargavi\\AppData\\Local\\Temp\\ipykernel_4780\\1774173414.py:3: SettingWithCopyWarning: \n",
      "A value is trying to be set on a copy of a slice from a DataFrame\n",
      "\n",
      "See the caveats in the documentation: https://pandas.pydata.org/pandas-docs/stable/user_guide/indexing.html#returning-a-view-versus-a-copy\n",
      "  l4[i]=calculate_accuracy(1,n)\n",
      "C:\\Users\\sindhubhargavi\\AppData\\Local\\Temp\\ipykernel_4780\\1774173414.py:3: SettingWithCopyWarning: \n",
      "A value is trying to be set on a copy of a slice from a DataFrame\n",
      "\n",
      "See the caveats in the documentation: https://pandas.pydata.org/pandas-docs/stable/user_guide/indexing.html#returning-a-view-versus-a-copy\n",
      "  l4[i]=calculate_accuracy(1,n)\n",
      "C:\\Users\\sindhubhargavi\\AppData\\Local\\Temp\\ipykernel_4780\\1774173414.py:3: SettingWithCopyWarning: \n",
      "A value is trying to be set on a copy of a slice from a DataFrame\n",
      "\n",
      "See the caveats in the documentation: https://pandas.pydata.org/pandas-docs/stable/user_guide/indexing.html#returning-a-view-versus-a-copy\n",
      "  l4[i]=calculate_accuracy(1,n)\n",
      "C:\\Users\\sindhubhargavi\\AppData\\Local\\Temp\\ipykernel_4780\\1774173414.py:3: SettingWithCopyWarning: \n",
      "A value is trying to be set on a copy of a slice from a DataFrame\n",
      "\n",
      "See the caveats in the documentation: https://pandas.pydata.org/pandas-docs/stable/user_guide/indexing.html#returning-a-view-versus-a-copy\n",
      "  l4[i]=calculate_accuracy(1,n)\n",
      "C:\\Users\\sindhubhargavi\\AppData\\Local\\Temp\\ipykernel_4780\\1774173414.py:3: SettingWithCopyWarning: \n",
      "A value is trying to be set on a copy of a slice from a DataFrame\n",
      "\n",
      "See the caveats in the documentation: https://pandas.pydata.org/pandas-docs/stable/user_guide/indexing.html#returning-a-view-versus-a-copy\n",
      "  l4[i]=calculate_accuracy(1,n)\n",
      "C:\\Users\\sindhubhargavi\\AppData\\Local\\Temp\\ipykernel_4780\\1774173414.py:3: SettingWithCopyWarning: \n",
      "A value is trying to be set on a copy of a slice from a DataFrame\n",
      "\n",
      "See the caveats in the documentation: https://pandas.pydata.org/pandas-docs/stable/user_guide/indexing.html#returning-a-view-versus-a-copy\n",
      "  l4[i]=calculate_accuracy(1,n)\n",
      "C:\\Users\\sindhubhargavi\\AppData\\Local\\Temp\\ipykernel_4780\\1774173414.py:3: SettingWithCopyWarning: \n",
      "A value is trying to be set on a copy of a slice from a DataFrame\n",
      "\n",
      "See the caveats in the documentation: https://pandas.pydata.org/pandas-docs/stable/user_guide/indexing.html#returning-a-view-versus-a-copy\n",
      "  l4[i]=calculate_accuracy(1,n)\n",
      "C:\\Users\\sindhubhargavi\\AppData\\Local\\Temp\\ipykernel_4780\\1774173414.py:3: SettingWithCopyWarning: \n",
      "A value is trying to be set on a copy of a slice from a DataFrame\n",
      "\n",
      "See the caveats in the documentation: https://pandas.pydata.org/pandas-docs/stable/user_guide/indexing.html#returning-a-view-versus-a-copy\n",
      "  l4[i]=calculate_accuracy(1,n)\n",
      "C:\\Users\\sindhubhargavi\\AppData\\Local\\Temp\\ipykernel_4780\\1774173414.py:3: SettingWithCopyWarning: \n",
      "A value is trying to be set on a copy of a slice from a DataFrame\n",
      "\n",
      "See the caveats in the documentation: https://pandas.pydata.org/pandas-docs/stable/user_guide/indexing.html#returning-a-view-versus-a-copy\n",
      "  l4[i]=calculate_accuracy(1,n)\n",
      "C:\\Users\\sindhubhargavi\\AppData\\Local\\Temp\\ipykernel_4780\\1774173414.py:3: SettingWithCopyWarning: \n",
      "A value is trying to be set on a copy of a slice from a DataFrame\n",
      "\n",
      "See the caveats in the documentation: https://pandas.pydata.org/pandas-docs/stable/user_guide/indexing.html#returning-a-view-versus-a-copy\n",
      "  l4[i]=calculate_accuracy(1,n)\n",
      "C:\\Users\\sindhubhargavi\\AppData\\Local\\Temp\\ipykernel_4780\\1774173414.py:3: SettingWithCopyWarning: \n",
      "A value is trying to be set on a copy of a slice from a DataFrame\n",
      "\n",
      "See the caveats in the documentation: https://pandas.pydata.org/pandas-docs/stable/user_guide/indexing.html#returning-a-view-versus-a-copy\n",
      "  l4[i]=calculate_accuracy(1,n)\n"
     ]
    },
    {
     "data": {
      "text/plain": [
       "0       0\n",
       "1       0\n",
       "2       0\n",
       "3       0\n",
       "4       0\n",
       "5       0\n",
       "6     100\n",
       "7     100\n",
       "8       0\n",
       "9     100\n",
       "10      0\n",
       "Name: OTHERS, dtype: int64"
      ]
     },
     "execution_count": 80,
     "metadata": {},
     "output_type": "execute_result"
    }
   ],
   "source": [
    "for i in range(len(l3)):\n",
    "    n=l4[i]\n",
    "    l4[i]=calculate_accuracy(1,n)\n",
    "l4\n",
    "    \n",
    "    \n",
    "\n",
    " \n"
   ]
  },
  {
   "cell_type": "code",
   "execution_count": 48,
   "id": "bf8eddcf",
   "metadata": {},
   "outputs": [
    {
     "data": {
      "text/plain": [
       "[100.0, 68.75, 65.97222222222223]"
      ]
     },
     "execution_count": 48,
     "metadata": {},
     "output_type": "execute_result"
    }
   ],
   "source": [
    "l5=[]\n",
    "for i in range(len(l1)):\n",
    "    summ=l[i]+l1[i]+l2[i]+l3[i]\n",
    "    l5.append(summ/4)\n",
    "l5\n",
    "    "
   ]
  },
  {
   "cell_type": "code",
   "execution_count": 232,
   "id": "b312d88c",
   "metadata": {},
   "outputs": [
    {
     "data": {
      "text/plain": [
       "Text(0.5, 1.0, 'TS 2023')"
      ]
     },
     "execution_count": 232,
     "metadata": {},
     "output_type": "execute_result"
    },
    {
     "data": {
      "image/png": "[encoded data removed]",
      "text/plain": [
       "<Figure size 640x480 with 1 Axes>"
      ]
     },
     "metadata": {},
     "output_type": "display_data"
    }
   ],
   "source": [
    "import matplotlib.pyplot as plt\n",
    "ts23=pd.read_csv('ts 2023.csv')\n",
    "\n",
    "\n",
    "organisation=ts23['Name of the organization']\n",
    "accuracy=ts23['Accuracy']\n",
    "# Creating a bar plot using Matplotlib\n",
    "plt.bar(organisation, accuracy, color='blue')\n",
    "\n",
    "# Adding labels and title\n",
    "plt.xlabel('Organisation')\n",
    "plt.ylabel('Accuracy')\n",
    "plt.ylim(0, 10)\n",
    "plt.title('TS 2023')"
   ]
  },
  {
   "cell_type": "code",
   "execution_count": null,
   "id": "86eab454",
   "metadata": {},
   "outputs": [],
   "source": [
    "import seaborn as sns"
   ]
  }
 ],
 "metadata": {
  "kernelspec": {
   "display_name": "Python 3 (ipykernel)",
   "language": "python",
   "name": "python3"
  },
  "language_info": {
   "codemirror_mode": {
    "name": "ipython",
    "version": 3
   },
   "file_extension": ".py",
   "mimetype": "text/x-python",
   "name": "python",
   "nbconvert_exporter": "python",
   "pygments_lexer": "ipython3",
   "version": "3.10.9"
  }
 },
 "nbformat": 4,
 "nbformat_minor": 5
}
